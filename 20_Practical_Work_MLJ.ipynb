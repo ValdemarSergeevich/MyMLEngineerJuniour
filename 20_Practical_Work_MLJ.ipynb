{
  "cells": [
    {
      "cell_type": "markdown",
      "metadata": {
        "id": "p92rzC-2D71g"
      },
      "source": [
        "# Инфраструктура для моделей машинного обучения. Практическая работа\n",
        "\n",
        "# Цель практической работы\n",
        "\n",
        "Потренироваться в использовании библиотек PySpark SQL и PySpark ML для предобработки данных и обучения моделей.\n",
        "\n",
        "# Что входит в практическую работу\n",
        "\n",
        "1. Инициализация спарк-сессии.\n",
        "2. Загрузка данных.\n",
        "3. Ознакомление с данными.\n",
        "4. Преобразование типов столбцов.\n",
        "5. Очистка данных.\n",
        "6. Feature-инжиниринг.\n",
        "7. Векторизация фичей.\n",
        "8. Создание и обучение модели.\n",
        "9. Выбор лучшей модели.\n",
        "10. Обратная связь.\n",
        "\n",
        "\n",
        "# Что оценивается\n",
        "\n",
        "- Пройдены все этапы работы.\n",
        "- Спарк-сессия успешно запущена.\n",
        "- Данные прочитаны.\n",
        "- Все колонки с числовыми значениями преобразованы в числовые типы данных (Int или Double).\n",
        "- Отфильтрованы все строки с Null-значениями.\n",
        "- Созданы новые фичи.\n",
        "- Все категориальные колонки преобразованы в числовой вид, выполнены все этапы векторизации признаков.\n",
        "- Выборка разделена на обучающую и тестовую.\n",
        "- Создано три объекта: модель, сетка гиперпараметров и evaluator.\n",
        "- Создан объект класса CrossValidator и обучен на обучающей выборке.\n",
        "- Выбрана лучшая модель, посчитана метрика качества лучшей модели.\n",
        "\n",
        "\n",
        "# Задача\n",
        "\n",
        "Используя данные о клиентах телекоммуникационной компании, обучите модель, предсказывающую их отток.\n",
        "\n",
        "Описание данных, с которыми вы будете работать:\n",
        "\n",
        "* **CustomerID**: ID клиента.\n",
        "* **Gender**: пол клиента.\n",
        "* **SeniorCitizen**: пенсионер ли клиент (1 — да, 0 — нет).\n",
        "* **Partner**: есть у клиента партнёр (жена, муж) или нет (Yes/No).\n",
        "* **Dependents**: есть ли у клиента инждивенцы, например дети (Yes/No).\n",
        "* **Tenure**: как много месяцев клиент оставался в компании.\n",
        "* **PhoneService**: подключена ли у клиента телефонная служба (Yes/No).\n",
        "* **MultipleLines**: подключено ли несколько телефонных линий (Yes, No, No phone service).\n",
        "* **InternetService**: интернет-провайдер клиента (DSL, Fiber optic, No).\n",
        "* **OnlineSecurity**: подключена ли у клиента услуга онлайн-безопасности (Yes, No, No internet service)\n",
        "* **OnlineBackup**: подключена ли услуга резервного копирования онлайн (Yes, No, No internet service).\n",
        "* **DeviceProtection**: подключена ли услуга защиты устройства (Yes, No, No internet service)\n",
        "* **TechSupport**: есть ли у клиента техническая поддержка (Yes, No, No internet service).\n",
        "* **StreamingTV**: подключена ли услуга потокового телевидения (Yes, No, No internet service).\n",
        "* **StreamingMovies**: подключена ли услуга стримингового воспроизведения фильмов (Yes, No, No internet service).\n",
        "* **Contract**: тип контракта клиента (Month-to-month, One year, Two year).\n",
        "* **PaperlessBilling**: есть ли безбумажный счёт.\n",
        "* **PaymentMethod**: способ оплаты услуг (Electronic check, Mailed check, Bank transfer (automatic), Credit card (automatic)).\n",
        "* **MonthlyCharges**: сумма, которая списывается ежемесячно.\n",
        "* **TotalCharges**: сумма, списанная за всё время.\n",
        "* **Churn**: ушёл ли клиент (Yes/No). Это целевая переменная, которую нужно предсказать.\n"
      ]
    },
    {
      "cell_type": "markdown",
      "metadata": {
        "id": "CZmr6VeYvLKB"
      },
      "source": [
        "# 1. Инициализация спарк-сессии"
      ]
    },
    {
      "cell_type": "markdown",
      "metadata": {
        "id": "EO2v2cOjyZBN"
      },
      "source": [
        "Инициализируйте спарк-сессию.\n",
        "\n",
        "Эта ячейка нужна для того, чтобы заргузить необходимые библиотеки и настроить окружение Google Colab для работы со Spark.\n",
        "\n",
        "Просто запустите её перед выполением задания :)"
      ]
    },
    {
      "cell_type": "code",
      "execution_count": 1,
      "metadata": {
        "id": "UuUc1cxHuymb"
      },
      "outputs": [],
      "source": [
        "!pip install pyspark --quiet\n",
        "!pip install -U -q PyDrive --quiet\n",
        "!apt install openjdk-8-jdk-headless &> /dev/null\n",
        "\n",
        "import os\n",
        "os.environ[\"JAVA_HOME\"] = \"/usr/lib/jvm/java-8-openjdk-amd64\"\n",
        "\n",
        "!wget https://bin.equinox.io/c/4VmDzA7iaHb/ngrok-stable-linux-amd64.zip &> /dev/null\n",
        "!unzip ngrok-stable-linux-amd64.zip &> /dev/null\n",
        "get_ipython().system_raw('./ngrok http 4050 &')\n"
      ]
    },
    {
      "cell_type": "code",
      "execution_count": 2,
      "metadata": {
        "id": "8Q743I78vA5_",
        "colab": {
          "base_uri": "https://localhost:8080/"
        },
        "outputId": "7116e13b-eac7-4806-b561-c7e26d5e9d13"
      },
      "outputs": [
        {
          "output_type": "stream",
          "name": "stdout",
          "text": [
            "Mounted at /content/drive\n"
          ]
        }
      ],
      "source": [
        "from pyspark.sql import SparkSession\n",
        "from google.colab import drive\n",
        "\n",
        "drive.mount(\"/content/drive\")\n",
        "\n",
        "\n",
        "### Ваш код здесь ###"
      ]
    },
    {
      "cell_type": "code",
      "source": [
        "spark = SparkSession.builder.appName(\"CSV Loading Data\")\\\n",
        ".config(\"spark.executor.memory\", \"2g\")\\\n",
        ".config(\"spark.driver.memory\", \"2g\")\\\n",
        ".getOrCreate()\n"
      ],
      "metadata": {
        "id": "-k1BdVWv-IdI"
      },
      "execution_count": 116,
      "outputs": []
    },
    {
      "cell_type": "markdown",
      "metadata": {
        "id": "e55O3aB5vo3k"
      },
      "source": [
        "# 2. Загрузка данных\n",
        "Загрузите данные, сохраните их в переменную типа sparkDataframe, используя метод read.csv (не забывайте про header и delimiter)."
      ]
    },
    {
      "cell_type": "code",
      "execution_count": 117,
      "metadata": {
        "id": "1GVOybUCvlXy"
      },
      "outputs": [],
      "source": [
        "### Ваш код здесь ###\n",
        "data = spark.read\\\n",
        ".format(\"csv\")\\\n",
        ".option(\"header\", \"true\")\\\n",
        ".option(\"inferSchema\", \"true\")\\\n",
        ".option(\"delimiter\", \",\")\\\n",
        ".csv(\"/content/drive/MyDrive/WA_Fn-UseC_-Telco-Customer-Churn.csv\")"
      ]
    },
    {
      "cell_type": "markdown",
      "metadata": {
        "id": "k8amaWNGzDsf"
      },
      "source": [
        "# 3. Ознакомление с данными\n",
        "1. Выведите на экран первые несколько строк датафрейма.\n"
      ]
    },
    {
      "cell_type": "code",
      "execution_count": 118,
      "metadata": {
        "colab": {
          "base_uri": "https://localhost:8080/"
        },
        "id": "bPfkFFUoz19Y",
        "outputId": "ab1daded-6643-4d0d-eb4c-635331ba15bc"
      },
      "outputs": [
        {
          "output_type": "stream",
          "name": "stdout",
          "text": [
            "+----------+------+-------------+-------+----------+------+------------+-------------+---------------+--------------+------------+----------------+-----------+-----------+---------------+--------+----------------+-------------+--------------+------------+-----+\n",
            "|customerID|gender|SeniorCitizen|Partner|Dependents|tenure|PhoneService|MultipleLines|InternetService|OnlineSecurity|OnlineBackup|DeviceProtection|TechSupport|StreamingTV|StreamingMovies|Contract|PaperlessBilling|PaymentMethod|MonthlyCharges|TotalCharges|Churn|\n",
            "+----------+------+-------------+-------+----------+------+------------+-------------+---------------+--------------+------------+----------------+-----------+-----------+---------------+--------+----------------+-------------+--------------+------------+-----+\n",
            "|  7590-...|Female|            0|    Yes|        No|     1|          No|     No ph...|            DSL|            No|         Yes|              No|         No|         No|             No|Month...|             Yes|     Elect...|         29.85|       29.85|   No|\n",
            "|  5575-...|  Male|            0|     No|        No|    34|         Yes|           No|            DSL|           Yes|          No|             Yes|         No|         No|             No|One year|              No|     Maile...|         56.95|      1889.5|   No|\n",
            "|  3668-...|  Male|            0|     No|        No|     2|         Yes|           No|            DSL|           Yes|         Yes|              No|         No|         No|             No|Month...|             Yes|     Maile...|         53.85|      108.15|  Yes|\n",
            "|  7795-...|  Male|            0|     No|        No|    45|          No|     No ph...|            DSL|           Yes|          No|             Yes|        Yes|         No|             No|One year|              No|     Bank ...|          42.3|     1840.75|   No|\n",
            "|  9237-...|Female|            0|     No|        No|     2|         Yes|           No|       Fiber...|            No|          No|              No|         No|         No|             No|Month...|             Yes|     Elect...|          70.7|      151.65|  Yes|\n",
            "+----------+------+-------------+-------+----------+------+------------+-------------+---------------+--------------+------------+----------------+-----------+-----------+---------------+--------+----------------+-------------+--------------+------------+-----+\n",
            "only showing top 5 rows\n",
            "\n"
          ]
        }
      ],
      "source": [
        "### Ваш код здесь ###\n",
        "data.show(5, 8)"
      ]
    },
    {
      "cell_type": "markdown",
      "metadata": {
        "id": "vMgX25wr0JfV"
      },
      "source": [
        "\n",
        "2. Выведите общее количество строк датафрейма.\n",
        "\n"
      ]
    },
    {
      "cell_type": "code",
      "execution_count": 119,
      "metadata": {
        "id": "ivgw172qz9o_",
        "colab": {
          "base_uri": "https://localhost:8080/"
        },
        "outputId": "14ee5ac9-53f2-4f8f-bf86-806f2886592a"
      },
      "outputs": [
        {
          "output_type": "execute_result",
          "data": {
            "text/plain": [
              "7043"
            ]
          },
          "metadata": {},
          "execution_count": 119
        }
      ],
      "source": [
        "### Ваш код здесь ###\n",
        "row_count = data.count()\n",
        "row_count"
      ]
    },
    {
      "cell_type": "markdown",
      "metadata": {
        "id": "xCAeIZFe0KyY"
      },
      "source": [
        "3. Выведите структуру (схему) датафрейма."
      ]
    },
    {
      "cell_type": "code",
      "execution_count": 120,
      "metadata": {
        "id": "KmZY25zX0Fd5",
        "colab": {
          "base_uri": "https://localhost:8080/"
        },
        "outputId": "92c4cd18-b20f-44f0-9c73-4237ba83bf62"
      },
      "outputs": [
        {
          "output_type": "stream",
          "name": "stdout",
          "text": [
            "root\n",
            " |-- customerID: string (nullable = true)\n",
            " |-- gender: string (nullable = true)\n",
            " |-- SeniorCitizen: integer (nullable = true)\n",
            " |-- Partner: string (nullable = true)\n",
            " |-- Dependents: string (nullable = true)\n",
            " |-- tenure: integer (nullable = true)\n",
            " |-- PhoneService: string (nullable = true)\n",
            " |-- MultipleLines: string (nullable = true)\n",
            " |-- InternetService: string (nullable = true)\n",
            " |-- OnlineSecurity: string (nullable = true)\n",
            " |-- OnlineBackup: string (nullable = true)\n",
            " |-- DeviceProtection: string (nullable = true)\n",
            " |-- TechSupport: string (nullable = true)\n",
            " |-- StreamingTV: string (nullable = true)\n",
            " |-- StreamingMovies: string (nullable = true)\n",
            " |-- Contract: string (nullable = true)\n",
            " |-- PaperlessBilling: string (nullable = true)\n",
            " |-- PaymentMethod: string (nullable = true)\n",
            " |-- MonthlyCharges: double (nullable = true)\n",
            " |-- TotalCharges: string (nullable = true)\n",
            " |-- Churn: string (nullable = true)\n",
            "\n"
          ]
        }
      ],
      "source": [
        "### Ваш код здесь ###\n",
        "data.printSchema()"
      ]
    },
    {
      "cell_type": "markdown",
      "metadata": {
        "id": "DFcKPAI_0cF7"
      },
      "source": [
        "# 4. Преобразование типов столбцов\n",
        "Преобразуйте тип столбцов у числовых признаков (Int — если признак целочисленный, Double — если признак не целочисленный). Сохраните преобразованный датафрейм в новую переменную.\n",
        "\n",
        "## Совет\n",
        "\n",
        "Если вам сложно выполнить это задание, изучите дополнительные материалы: [об операторе Cast](https://sparkbyexamples.com/pyspark/pyspark-cast-column-type/), [об операторе Select](https://sparkbyexamples.com/pyspark/select-columns-from-pyspark-dataframe/).\n",
        "\n"
      ]
    },
    {
      "cell_type": "code",
      "execution_count": 121,
      "metadata": {
        "id": "Kihtrqni0-Js",
        "colab": {
          "base_uri": "https://localhost:8080/"
        },
        "outputId": "4bf11e98-1b14-4645-8c5b-b35f2b5bf53b"
      },
      "outputs": [
        {
          "output_type": "stream",
          "name": "stdout",
          "text": [
            "root\n",
            " |-- gender: string (nullable = true)\n",
            " |-- SeniorCitizen: integer (nullable = true)\n",
            " |-- Partner: string (nullable = true)\n",
            " |-- Dependents: string (nullable = true)\n",
            " |-- Tenure: integer (nullable = true)\n",
            " |-- PhoneService: string (nullable = true)\n",
            " |-- MultipleLines: string (nullable = true)\n",
            " |-- InternetService: string (nullable = true)\n",
            " |-- OnlineSecurity: string (nullable = true)\n",
            " |-- OnlineBackup: string (nullable = true)\n",
            " |-- DeviceProtection: string (nullable = true)\n",
            " |-- TechSupport: string (nullable = true)\n",
            " |-- StreamingTV: string (nullable = true)\n",
            " |-- StreamingMovies: string (nullable = true)\n",
            " |-- Contract: string (nullable = true)\n",
            " |-- PaperlessBilling: string (nullable = true)\n",
            " |-- PaymentMethod: string (nullable = true)\n",
            " |-- MonthlyCharges: double (nullable = true)\n",
            " |-- TotalCharges: double (nullable = true)\n",
            " |-- Churn: string (nullable = true)\n",
            "\n"
          ]
        }
      ],
      "source": [
        "from pyspark.sql.functions import expr, col, sum, avg, max, count, countDistinct, isnan, isnull\n",
        "\n",
        "### Ваш код здесь ###\n",
        "data_formatted = data.select(\n",
        "    col(\"gender\").cast(\"String\"),\n",
        "    col(\"SeniorCitizen\").cast(\"Int\"),\n",
        "    col(\"Partner\").cast(\"String\"),\n",
        "    col(\"Dependents\").cast(\"String\"),\n",
        "    col(\"Tenure\").cast(\"Int\"),\n",
        "    col(\"PhoneService\").cast(\"String\"),\n",
        "    col(\"MultipleLines\").cast(\"String\"),\n",
        "    col(\"InternetService\").cast(\"String\"),\n",
        "    col(\"OnlineSecurity\").cast(\"String\"),\n",
        "    col(\"OnlineBackup\").cast(\"String\"),\n",
        "    col(\"DeviceProtection\").cast(\"String\"),\n",
        "    col(\"TechSupport\").cast(\"String\"),\n",
        "    col(\"StreamingTV\").cast(\"String\"),\n",
        "    col(\"StreamingMovies\").cast(\"String\"),\n",
        "    col(\"Contract\").cast(\"String\"),\n",
        "    col(\"PaperlessBilling\").cast(\"String\"),\n",
        "    col(\"PaymentMethod\").cast(\"String\"),\n",
        "    col(\"MonthlyCharges\").cast(\"Double\"),\n",
        "    col(\"TotalCharges\").cast(\"Double\"),\n",
        "    col(\"Churn\").cast(\"String\")\n",
        ")\n",
        "data_formatted.printSchema()"
      ]
    },
    {
      "cell_type": "code",
      "source": [
        "data_formatted.show(5, 8)"
      ],
      "metadata": {
        "colab": {
          "base_uri": "https://localhost:8080/"
        },
        "id": "DL0l3aqEZWl_",
        "outputId": "13ac5441-d9a2-4224-8e93-a68f085e9cbb"
      },
      "execution_count": 122,
      "outputs": [
        {
          "output_type": "stream",
          "name": "stdout",
          "text": [
            "+------+-------------+-------+----------+------+------------+-------------+---------------+--------------+------------+----------------+-----------+-----------+---------------+--------+----------------+-------------+--------------+------------+-----+\n",
            "|gender|SeniorCitizen|Partner|Dependents|Tenure|PhoneService|MultipleLines|InternetService|OnlineSecurity|OnlineBackup|DeviceProtection|TechSupport|StreamingTV|StreamingMovies|Contract|PaperlessBilling|PaymentMethod|MonthlyCharges|TotalCharges|Churn|\n",
            "+------+-------------+-------+----------+------+------------+-------------+---------------+--------------+------------+----------------+-----------+-----------+---------------+--------+----------------+-------------+--------------+------------+-----+\n",
            "|Female|            0|    Yes|        No|     1|          No|     No ph...|            DSL|            No|         Yes|              No|         No|         No|             No|Month...|             Yes|     Elect...|         29.85|       29.85|   No|\n",
            "|  Male|            0|     No|        No|    34|         Yes|           No|            DSL|           Yes|          No|             Yes|         No|         No|             No|One year|              No|     Maile...|         56.95|      1889.5|   No|\n",
            "|  Male|            0|     No|        No|     2|         Yes|           No|            DSL|           Yes|         Yes|              No|         No|         No|             No|Month...|             Yes|     Maile...|         53.85|      108.15|  Yes|\n",
            "|  Male|            0|     No|        No|    45|          No|     No ph...|            DSL|           Yes|          No|             Yes|        Yes|         No|             No|One year|              No|     Bank ...|          42.3|     1840.75|   No|\n",
            "|Female|            0|     No|        No|     2|         Yes|           No|       Fiber...|            No|          No|              No|         No|         No|             No|Month...|             Yes|     Elect...|          70.7|      151.65|  Yes|\n",
            "+------+-------------+-------+----------+------+------------+-------------+---------------+--------------+------------+----------------+-----------+-----------+---------------+--------+----------------+-------------+--------------+------------+-----+\n",
            "only showing top 5 rows\n",
            "\n"
          ]
        }
      ]
    },
    {
      "cell_type": "code",
      "source": [
        "data_formatted.count()"
      ],
      "metadata": {
        "colab": {
          "base_uri": "https://localhost:8080/"
        },
        "id": "gaVIkFLuL5hG",
        "outputId": "97566e9c-0de3-4bb6-92fb-90504dcc3115"
      },
      "execution_count": 123,
      "outputs": [
        {
          "output_type": "execute_result",
          "data": {
            "text/plain": [
              "7043"
            ]
          },
          "metadata": {},
          "execution_count": 123
        }
      ]
    },
    {
      "cell_type": "code",
      "source": [
        "data_formatted.groupBy(\"gender\").count().show()"
      ],
      "metadata": {
        "colab": {
          "base_uri": "https://localhost:8080/"
        },
        "id": "3DymxwJPMkXi",
        "outputId": "328d3ce9-32ea-4f76-c16d-caae7a64f75a"
      },
      "execution_count": 124,
      "outputs": [
        {
          "output_type": "stream",
          "name": "stdout",
          "text": [
            "+------+-----+\n",
            "|gender|count|\n",
            "+------+-----+\n",
            "|Female| 3488|\n",
            "|  Male| 3555|\n",
            "+------+-----+\n",
            "\n"
          ]
        }
      ]
    },
    {
      "cell_type": "code",
      "source": [
        "data_formatted.groupBy(\"SeniorCitizen\").count().show()"
      ],
      "metadata": {
        "colab": {
          "base_uri": "https://localhost:8080/"
        },
        "id": "GihPA6cZNkxV",
        "outputId": "5577c236-aeaa-4f7d-a3dc-12714335afb0"
      },
      "execution_count": 125,
      "outputs": [
        {
          "output_type": "stream",
          "name": "stdout",
          "text": [
            "+-------------+-----+\n",
            "|SeniorCitizen|count|\n",
            "+-------------+-----+\n",
            "|            1| 1142|\n",
            "|            0| 5901|\n",
            "+-------------+-----+\n",
            "\n"
          ]
        }
      ]
    },
    {
      "cell_type": "code",
      "source": [
        "data_formatted.groupBy(\"Partner\").count().show()"
      ],
      "metadata": {
        "colab": {
          "base_uri": "https://localhost:8080/"
        },
        "id": "HKdA5ABpM_ir",
        "outputId": "d0cdf72c-3af0-4fdc-bc43-2c39b1e2f138"
      },
      "execution_count": 126,
      "outputs": [
        {
          "output_type": "stream",
          "name": "stdout",
          "text": [
            "+-------+-----+\n",
            "|Partner|count|\n",
            "+-------+-----+\n",
            "|     No| 3641|\n",
            "|    Yes| 3402|\n",
            "+-------+-----+\n",
            "\n"
          ]
        }
      ]
    },
    {
      "cell_type": "code",
      "source": [
        "data_formatted.groupBy(\"Dependents\").count().show()"
      ],
      "metadata": {
        "colab": {
          "base_uri": "https://localhost:8080/"
        },
        "id": "SQr44Y3gNubt",
        "outputId": "fd30be84-da70-4adf-b7f1-a35147c0b7e1"
      },
      "execution_count": 127,
      "outputs": [
        {
          "output_type": "stream",
          "name": "stdout",
          "text": [
            "+----------+-----+\n",
            "|Dependents|count|\n",
            "+----------+-----+\n",
            "|        No| 4933|\n",
            "|       Yes| 2110|\n",
            "+----------+-----+\n",
            "\n"
          ]
        }
      ]
    },
    {
      "cell_type": "code",
      "source": [
        "data_formatted.groupBy(\"Tenure\").count().show()"
      ],
      "metadata": {
        "colab": {
          "base_uri": "https://localhost:8080/"
        },
        "id": "W91uIHWMOGGL",
        "outputId": "bdaa96af-5bb4-44c8-83c6-836ecf65bf33"
      },
      "execution_count": 128,
      "outputs": [
        {
          "output_type": "stream",
          "name": "stdout",
          "text": [
            "+------+-----+\n",
            "|Tenure|count|\n",
            "+------+-----+\n",
            "|    31|   65|\n",
            "|    65|   76|\n",
            "|    53|   70|\n",
            "|    34|   65|\n",
            "|    28|   57|\n",
            "|    27|   72|\n",
            "|    26|   79|\n",
            "|    44|   51|\n",
            "|    12|  117|\n",
            "|    22|   90|\n",
            "|    47|   68|\n",
            "|     1|  613|\n",
            "|    52|   80|\n",
            "|    13|  109|\n",
            "|    16|   80|\n",
            "|     6|  110|\n",
            "|     3|  200|\n",
            "|    20|   71|\n",
            "|    40|   64|\n",
            "|    57|   65|\n",
            "+------+-----+\n",
            "only showing top 20 rows\n",
            "\n"
          ]
        }
      ]
    },
    {
      "cell_type": "code",
      "source": [
        "data_formatted.groupBy(\"TotalCharges\").count().show()"
      ],
      "metadata": {
        "colab": {
          "base_uri": "https://localhost:8080/"
        },
        "id": "nyE3UtjUZ6gt",
        "outputId": "94493864-edea-4397-9c39-41e1a1611719"
      },
      "execution_count": 129,
      "outputs": [
        {
          "output_type": "stream",
          "name": "stdout",
          "text": [
            "+------------+-----+\n",
            "|TotalCharges|count|\n",
            "+------------+-----+\n",
            "|     1874.45|    1|\n",
            "|     1752.65|    1|\n",
            "|       244.8|    1|\n",
            "|      673.25|    1|\n",
            "|      4326.8|    1|\n",
            "|       229.6|    1|\n",
            "|       936.7|    1|\n",
            "|     5388.15|    1|\n",
            "|       168.5|    1|\n",
            "|        49.8|    2|\n",
            "|        74.5|    2|\n",
            "|      779.25|    1|\n",
            "|     3888.65|    1|\n",
            "|      414.95|    1|\n",
            "|     5586.45|    1|\n",
            "|        69.8|    2|\n",
            "|       405.7|    1|\n",
            "|      5812.6|    1|\n",
            "|      8443.7|    1|\n",
            "|     4863.85|    1|\n",
            "+------------+-----+\n",
            "only showing top 20 rows\n",
            "\n"
          ]
        }
      ]
    },
    {
      "cell_type": "markdown",
      "metadata": {
        "id": "1hBBiIm350BD"
      },
      "source": [
        "# 5. Очистка данных\n",
        "Проверьте, есть ли в какой-либо колонке Null-значения. Для этого можно использовать your_dataframe.filter(col(\"colname\")).isNull()).\n",
        "\n",
        "Выведите на экран несколько строк с Null-значениями в одной из колонок.\n",
        "\n",
        "Сохраните очищенный от строк с Null-значениями датафрейм в новую переменную. Для фильтрации этих значений можно использовать метод .isNotNull().\n",
        "\n",
        "Колонок в датафрейме много, проверять каждую неудобно и долго. Подумайте, как упроситить эту работу, если использовать, например, перебор с циклом for.\n",
        "\n",
        "[Примеры использования операторов isNull() и isNotNull()](https://sparkbyexamples.com/pyspark/pyspark-isnull/).\n"
      ]
    },
    {
      "cell_type": "code",
      "execution_count": 130,
      "metadata": {
        "id": "A0FTVvpg6_iy"
      },
      "outputs": [],
      "source": [
        "### Ваш код здесь ###\n",
        "cols = [\"gender\", \"SeniorCitizen\", \"Partner\", \"Dependents\",\n",
        "        \"Tenure\", \"PhoneService\", \"MultipleLines\", \"InternetService\",\n",
        "        \"OnlineSecurity\", \"OnlineBackup\", \"DeviceProtection\", \"TechSupport\",\n",
        "        \"StreamingTV\", \"StreamingMovies\", \"Contract\", \"PaperlessBilling\",\n",
        "        \"PaymentMethod\", \"MonthlyCharges\", \"TotalCharges\", \"Churn\"]"
      ]
    },
    {
      "cell_type": "code",
      "source": [
        "for column in cols:\n",
        "  null_count = data_formatted.filter(col(column).isNull()).count()\n",
        "  print(f\"Столбец '{column}': {null_count} пропусков\")"
      ],
      "metadata": {
        "colab": {
          "base_uri": "https://localhost:8080/"
        },
        "id": "M_4rleyXWVvT",
        "outputId": "12a059f6-8376-4a68-953d-035b894fd279"
      },
      "execution_count": 131,
      "outputs": [
        {
          "output_type": "stream",
          "name": "stdout",
          "text": [
            "Столбец 'gender': 0 пропусков\n",
            "Столбец 'SeniorCitizen': 0 пропусков\n",
            "Столбец 'Partner': 0 пропусков\n",
            "Столбец 'Dependents': 0 пропусков\n",
            "Столбец 'Tenure': 0 пропусков\n",
            "Столбец 'PhoneService': 0 пропусков\n",
            "Столбец 'MultipleLines': 0 пропусков\n",
            "Столбец 'InternetService': 0 пропусков\n",
            "Столбец 'OnlineSecurity': 0 пропусков\n",
            "Столбец 'OnlineBackup': 0 пропусков\n",
            "Столбец 'DeviceProtection': 0 пропусков\n",
            "Столбец 'TechSupport': 0 пропусков\n",
            "Столбец 'StreamingTV': 0 пропусков\n",
            "Столбец 'StreamingMovies': 0 пропусков\n",
            "Столбец 'Contract': 0 пропусков\n",
            "Столбец 'PaperlessBilling': 0 пропусков\n",
            "Столбец 'PaymentMethod': 0 пропусков\n",
            "Столбец 'MonthlyCharges': 0 пропусков\n",
            "Столбец 'TotalCharges': 11 пропусков\n",
            "Столбец 'Churn': 0 пропусков\n"
          ]
        }
      ]
    },
    {
      "cell_type": "code",
      "source": [
        "data_cleaned = data_formatted.filter(col(\"TotalCharges\").isNotNull())\n",
        "data_cleaned.show(5, 8)"
      ],
      "metadata": {
        "colab": {
          "base_uri": "https://localhost:8080/"
        },
        "id": "T_Zuy5cUhoHT",
        "outputId": "c482dfee-7a48-4458-a1f2-c743fc7a71be"
      },
      "execution_count": 132,
      "outputs": [
        {
          "output_type": "stream",
          "name": "stdout",
          "text": [
            "+------+-------------+-------+----------+------+------------+-------------+---------------+--------------+------------+----------------+-----------+-----------+---------------+--------+----------------+-------------+--------------+------------+-----+\n",
            "|gender|SeniorCitizen|Partner|Dependents|Tenure|PhoneService|MultipleLines|InternetService|OnlineSecurity|OnlineBackup|DeviceProtection|TechSupport|StreamingTV|StreamingMovies|Contract|PaperlessBilling|PaymentMethod|MonthlyCharges|TotalCharges|Churn|\n",
            "+------+-------------+-------+----------+------+------------+-------------+---------------+--------------+------------+----------------+-----------+-----------+---------------+--------+----------------+-------------+--------------+------------+-----+\n",
            "|Female|            0|    Yes|        No|     1|          No|     No ph...|            DSL|            No|         Yes|              No|         No|         No|             No|Month...|             Yes|     Elect...|         29.85|       29.85|   No|\n",
            "|  Male|            0|     No|        No|    34|         Yes|           No|            DSL|           Yes|          No|             Yes|         No|         No|             No|One year|              No|     Maile...|         56.95|      1889.5|   No|\n",
            "|  Male|            0|     No|        No|     2|         Yes|           No|            DSL|           Yes|         Yes|              No|         No|         No|             No|Month...|             Yes|     Maile...|         53.85|      108.15|  Yes|\n",
            "|  Male|            0|     No|        No|    45|          No|     No ph...|            DSL|           Yes|          No|             Yes|        Yes|         No|             No|One year|              No|     Bank ...|          42.3|     1840.75|   No|\n",
            "|Female|            0|     No|        No|     2|         Yes|           No|       Fiber...|            No|          No|              No|         No|         No|             No|Month...|             Yes|     Elect...|          70.7|      151.65|  Yes|\n",
            "+------+-------------+-------+----------+------+------------+-------------+---------------+--------------+------------+----------------+-----------+-----------+---------------+--------+----------------+-------------+--------------+------------+-----+\n",
            "only showing top 5 rows\n",
            "\n"
          ]
        }
      ]
    },
    {
      "cell_type": "code",
      "source": [
        "data_cleaned.count()"
      ],
      "metadata": {
        "colab": {
          "base_uri": "https://localhost:8080/"
        },
        "id": "jnPaYh-EiBdn",
        "outputId": "edce990a-fec3-4de5-bcc3-2d0e2138062d"
      },
      "execution_count": 133,
      "outputs": [
        {
          "output_type": "execute_result",
          "data": {
            "text/plain": [
              "7032"
            ]
          },
          "metadata": {},
          "execution_count": 133
        }
      ]
    },
    {
      "cell_type": "markdown",
      "metadata": {
        "id": "fMRcAbphNBEP"
      },
      "source": [
        "# 6. Feature-инжиниринг\n",
        "Добавьте в датафрейм одну или несколько новых фичей. Удалите колонки, которые, как вам кажется, нужно убрать из фичей. Обоснуйте свои решения."
      ]
    },
    {
      "cell_type": "code",
      "execution_count": 134,
      "metadata": {
        "id": "6SZ_rocx79oY"
      },
      "outputs": [],
      "source": [
        "from pyspark.sql.functions import when\n",
        "\n",
        "### Ваш код здесь ###\n",
        "def average_price(TotalCharges, Tenure):\n",
        "  av_price = TotalCharges / Tenure\n",
        "  return av_price"
      ]
    },
    {
      "cell_type": "code",
      "source": [
        "data_cleaned_1 = data_cleaned.withColumn(\"AverageCharges\", average_price(col(\"TotalCharges\"), col(\"Tenure\")))\n",
        "data_cleaned_1.show(5, 8)"
      ],
      "metadata": {
        "colab": {
          "base_uri": "https://localhost:8080/"
        },
        "id": "NKl7R7LSG-jS",
        "outputId": "df7ef684-38a7-498b-dee9-45f21427ed17"
      },
      "execution_count": 135,
      "outputs": [
        {
          "output_type": "stream",
          "name": "stdout",
          "text": [
            "+------+-------------+-------+----------+------+------------+-------------+---------------+--------------+------------+----------------+-----------+-----------+---------------+--------+----------------+-------------+--------------+------------+-----+--------------+\n",
            "|gender|SeniorCitizen|Partner|Dependents|Tenure|PhoneService|MultipleLines|InternetService|OnlineSecurity|OnlineBackup|DeviceProtection|TechSupport|StreamingTV|StreamingMovies|Contract|PaperlessBilling|PaymentMethod|MonthlyCharges|TotalCharges|Churn|AverageCharges|\n",
            "+------+-------------+-------+----------+------+------------+-------------+---------------+--------------+------------+----------------+-----------+-----------+---------------+--------+----------------+-------------+--------------+------------+-----+--------------+\n",
            "|Female|            0|    Yes|        No|     1|          No|     No ph...|            DSL|            No|         Yes|              No|         No|         No|             No|Month...|             Yes|     Elect...|         29.85|       29.85|   No|         29.85|\n",
            "|  Male|            0|     No|        No|    34|         Yes|           No|            DSL|           Yes|          No|             Yes|         No|         No|             No|One year|              No|     Maile...|         56.95|      1889.5|   No|      55.57...|\n",
            "|  Male|            0|     No|        No|     2|         Yes|           No|            DSL|           Yes|         Yes|              No|         No|         No|             No|Month...|             Yes|     Maile...|         53.85|      108.15|  Yes|        54.075|\n",
            "|  Male|            0|     No|        No|    45|          No|     No ph...|            DSL|           Yes|          No|             Yes|        Yes|         No|             No|One year|              No|     Bank ...|          42.3|     1840.75|   No|      40.90...|\n",
            "|Female|            0|     No|        No|     2|         Yes|           No|       Fiber...|            No|          No|              No|         No|         No|             No|Month...|             Yes|     Elect...|          70.7|      151.65|  Yes|        75.825|\n",
            "+------+-------------+-------+----------+------+------------+-------------+---------------+--------------+------------+----------------+-----------+-----------+---------------+--------+----------------+-------------+--------------+------------+-----+--------------+\n",
            "only showing top 5 rows\n",
            "\n"
          ]
        }
      ]
    },
    {
      "cell_type": "code",
      "source": [
        "data_cleaned_2 = data_cleaned_1.withColumn(\"AloneParent\", when(((col(\"Partner\") == \"No\") & (col(\"Dependents\") == \"Yes\")), 1).otherwise(0))\n",
        "data_cleaned_2.show(5, 8)"
      ],
      "metadata": {
        "colab": {
          "base_uri": "https://localhost:8080/"
        },
        "id": "T1jemddNI7rU",
        "outputId": "30dc3510-1c78-4aef-885e-0e114a5dbbe5"
      },
      "execution_count": 136,
      "outputs": [
        {
          "output_type": "stream",
          "name": "stdout",
          "text": [
            "+------+-------------+-------+----------+------+------------+-------------+---------------+--------------+------------+----------------+-----------+-----------+---------------+--------+----------------+-------------+--------------+------------+-----+--------------+-----------+\n",
            "|gender|SeniorCitizen|Partner|Dependents|Tenure|PhoneService|MultipleLines|InternetService|OnlineSecurity|OnlineBackup|DeviceProtection|TechSupport|StreamingTV|StreamingMovies|Contract|PaperlessBilling|PaymentMethod|MonthlyCharges|TotalCharges|Churn|AverageCharges|AloneParent|\n",
            "+------+-------------+-------+----------+------+------------+-------------+---------------+--------------+------------+----------------+-----------+-----------+---------------+--------+----------------+-------------+--------------+------------+-----+--------------+-----------+\n",
            "|Female|            0|    Yes|        No|     1|          No|     No ph...|            DSL|            No|         Yes|              No|         No|         No|             No|Month...|             Yes|     Elect...|         29.85|       29.85|   No|         29.85|          0|\n",
            "|  Male|            0|     No|        No|    34|         Yes|           No|            DSL|           Yes|          No|             Yes|         No|         No|             No|One year|              No|     Maile...|         56.95|      1889.5|   No|      55.57...|          0|\n",
            "|  Male|            0|     No|        No|     2|         Yes|           No|            DSL|           Yes|         Yes|              No|         No|         No|             No|Month...|             Yes|     Maile...|         53.85|      108.15|  Yes|        54.075|          0|\n",
            "|  Male|            0|     No|        No|    45|          No|     No ph...|            DSL|           Yes|          No|             Yes|        Yes|         No|             No|One year|              No|     Bank ...|          42.3|     1840.75|   No|      40.90...|          0|\n",
            "|Female|            0|     No|        No|     2|         Yes|           No|       Fiber...|            No|          No|              No|         No|         No|             No|Month...|             Yes|     Elect...|          70.7|      151.65|  Yes|        75.825|          0|\n",
            "+------+-------------+-------+----------+------+------------+-------------+---------------+--------------+------------+----------------+-----------+-----------+---------------+--------+----------------+-------------+--------------+------------+-----+--------------+-----------+\n",
            "only showing top 5 rows\n",
            "\n"
          ]
        }
      ]
    },
    {
      "cell_type": "code",
      "source": [
        "data_cleaned_2.groupBy(\"AloneParent\").count().show()"
      ],
      "metadata": {
        "colab": {
          "base_uri": "https://localhost:8080/"
        },
        "id": "qIH3XHXxKold",
        "outputId": "8209aa66-48ca-40a2-f9d3-8a44064c4c2f"
      },
      "execution_count": 137,
      "outputs": [
        {
          "output_type": "stream",
          "name": "stdout",
          "text": [
            "+-----------+-----+\n",
            "|AloneParent|count|\n",
            "+-----------+-----+\n",
            "|          1|  359|\n",
            "|          0| 6673|\n",
            "+-----------+-----+\n",
            "\n"
          ]
        }
      ]
    },
    {
      "cell_type": "code",
      "source": [
        "data_cleaned_2 = data_cleaned_2.withColumn(\"averageCharge\", col(\"TotalCharges\") / col(\"Tenure\"))\n",
        "data_cleaned_2.show(5, 8)"
      ],
      "metadata": {
        "colab": {
          "base_uri": "https://localhost:8080/"
        },
        "id": "qqPG9xTmvMyZ",
        "outputId": "54c69ffd-82ca-4012-b935-b467536e231a"
      },
      "execution_count": 138,
      "outputs": [
        {
          "output_type": "stream",
          "name": "stdout",
          "text": [
            "+------+-------------+-------+----------+------+------------+-------------+---------------+--------------+------------+----------------+-----------+-----------+---------------+--------+----------------+-------------+--------------+------------+-----+--------------+-----------+-------------+\n",
            "|gender|SeniorCitizen|Partner|Dependents|Tenure|PhoneService|MultipleLines|InternetService|OnlineSecurity|OnlineBackup|DeviceProtection|TechSupport|StreamingTV|StreamingMovies|Contract|PaperlessBilling|PaymentMethod|MonthlyCharges|TotalCharges|Churn|AverageCharges|AloneParent|averageCharge|\n",
            "+------+-------------+-------+----------+------+------------+-------------+---------------+--------------+------------+----------------+-----------+-----------+---------------+--------+----------------+-------------+--------------+------------+-----+--------------+-----------+-------------+\n",
            "|Female|            0|    Yes|        No|     1|          No|     No ph...|            DSL|            No|         Yes|              No|         No|         No|             No|Month...|             Yes|     Elect...|         29.85|       29.85|   No|         29.85|          0|        29.85|\n",
            "|  Male|            0|     No|        No|    34|         Yes|           No|            DSL|           Yes|          No|             Yes|         No|         No|             No|One year|              No|     Maile...|         56.95|      1889.5|   No|      55.57...|          0|     55.57...|\n",
            "|  Male|            0|     No|        No|     2|         Yes|           No|            DSL|           Yes|         Yes|              No|         No|         No|             No|Month...|             Yes|     Maile...|         53.85|      108.15|  Yes|        54.075|          0|       54.075|\n",
            "|  Male|            0|     No|        No|    45|          No|     No ph...|            DSL|           Yes|          No|             Yes|        Yes|         No|             No|One year|              No|     Bank ...|          42.3|     1840.75|   No|      40.90...|          0|     40.90...|\n",
            "|Female|            0|     No|        No|     2|         Yes|           No|       Fiber...|            No|          No|              No|         No|         No|             No|Month...|             Yes|     Elect...|          70.7|      151.65|  Yes|        75.825|          0|       75.825|\n",
            "+------+-------------+-------+----------+------+------------+-------------+---------------+--------------+------------+----------------+-----------+-----------+---------------+--------+----------------+-------------+--------------+------------+-----+--------------+-----------+-------------+\n",
            "only showing top 5 rows\n",
            "\n"
          ]
        }
      ]
    },
    {
      "cell_type": "code",
      "source": [
        "data_cleaned_2 = data_cleaned_2.withColumn(\"amount_of_services\",\n",
        "                                           (when(col(\"PhoneService\") == \"Yes\", 1).otherwise(0) +\n",
        "                                            when(col(\"MultipleLines\") == \"Yes\", 1).otherwise(0) +\n",
        "                                            when(col(\"OnlineSecurity\") == \"Yes\", 1).otherwise(0) +\n",
        "                                            when(col(\"OnlineBackup\") == \"Yes\", 1).otherwise(0) +\n",
        "                                            when(col(\"DeviceProtection\") == \"Yes\", 1).otherwise(0) +\n",
        "                                            when(col(\"TechSupport\") == \"Yes\", 1).otherwise(0) +\n",
        "                                            when(col(\"StreamingTV\") == \"Yes\", 1).otherwise(0) +\n",
        "                                            when(col(\"StreamingMovies\") == \"Yes\", 1).otherwise(0))\n",
        "                                           )"
      ],
      "metadata": {
        "id": "peVQSJ2WxREO"
      },
      "execution_count": 139,
      "outputs": []
    },
    {
      "cell_type": "code",
      "source": [
        "data_cleaned_2.show(5)"
      ],
      "metadata": {
        "colab": {
          "base_uri": "https://localhost:8080/"
        },
        "id": "BLaWYJGj1zN_",
        "outputId": "6e4ec4ad-ac76-45b2-868d-8c00cb36c470"
      },
      "execution_count": 140,
      "outputs": [
        {
          "output_type": "stream",
          "name": "stdout",
          "text": [
            "+------+-------------+-------+----------+------+------------+----------------+---------------+--------------+------------+----------------+-----------+-----------+---------------+--------------+----------------+--------------------+--------------+------------+-----+-----------------+-----------+-----------------+------------------+\n",
            "|gender|SeniorCitizen|Partner|Dependents|Tenure|PhoneService|   MultipleLines|InternetService|OnlineSecurity|OnlineBackup|DeviceProtection|TechSupport|StreamingTV|StreamingMovies|      Contract|PaperlessBilling|       PaymentMethod|MonthlyCharges|TotalCharges|Churn|   AverageCharges|AloneParent|    averageCharge|amount_of_services|\n",
            "+------+-------------+-------+----------+------+------------+----------------+---------------+--------------+------------+----------------+-----------+-----------+---------------+--------------+----------------+--------------------+--------------+------------+-----+-----------------+-----------+-----------------+------------------+\n",
            "|Female|            0|    Yes|        No|     1|          No|No phone service|            DSL|            No|         Yes|              No|         No|         No|             No|Month-to-month|             Yes|    Electronic check|         29.85|       29.85|   No|            29.85|          0|            29.85|                 1|\n",
            "|  Male|            0|     No|        No|    34|         Yes|              No|            DSL|           Yes|          No|             Yes|         No|         No|             No|      One year|              No|        Mailed check|         56.95|      1889.5|   No| 55.5735294117647|          0| 55.5735294117647|                 3|\n",
            "|  Male|            0|     No|        No|     2|         Yes|              No|            DSL|           Yes|         Yes|              No|         No|         No|             No|Month-to-month|             Yes|        Mailed check|         53.85|      108.15|  Yes|           54.075|          0|           54.075|                 3|\n",
            "|  Male|            0|     No|        No|    45|          No|No phone service|            DSL|           Yes|          No|             Yes|        Yes|         No|             No|      One year|              No|Bank transfer (au...|          42.3|     1840.75|   No|40.90555555555556|          0|40.90555555555556|                 3|\n",
            "|Female|            0|     No|        No|     2|         Yes|              No|    Fiber optic|            No|          No|              No|         No|         No|             No|Month-to-month|             Yes|    Electronic check|          70.7|      151.65|  Yes|           75.825|          0|           75.825|                 1|\n",
            "+------+-------------+-------+----------+------+------------+----------------+---------------+--------------+------------+----------------+-----------+-----------+---------------+--------------+----------------+--------------------+--------------+------------+-----+-----------------+-----------+-----------------+------------------+\n",
            "only showing top 5 rows\n",
            "\n"
          ]
        }
      ]
    },
    {
      "cell_type": "markdown",
      "metadata": {
        "id": "mX-4GEdHTZWd"
      },
      "source": [
        "#7. Векторизация фичей\n",
        "Подготовьте данные к обучению:\n",
        "\n",
        "\n",
        "\n"
      ]
    },
    {
      "cell_type": "markdown",
      "metadata": {
        "id": "x5cNxN2qq3SL"
      },
      "source": [
        "1. Преобразуйте текстовые колонки в числа, используя StringIndexer.\n",
        "Удалите столбцы со старыми (непреобразованными) признаками. Выведите на экран структуру получившегося датафрейма. Не забывайте о столбце Churn. Хоть он и выступает в задаче как таргет, он имеет текстовый тип, поэтому тоже должен быть закодирован числовыми значениями.\n",
        "\n",
        "Чтобы использовать StringIndexer для всех категориальных признаков сразу, а не для каждого отдельно, можно применить сущность pipeline.\n",
        "\n",
        "**Пример кода:**\n",
        "\n",
        "##### #Задаём список текстовых колонок:\n",
        "text_columns = [\"text_col_1\", \"text_col_2\", \"text_col_3\"]\n",
        "\n",
        "##### #Задаём список StringIndexer'ов — сущностей, каждая из которых будет кодировать одну текстовую колонку числами. Имена преобразованных колонок будут заканчиваться на _index:\n",
        "indexers = [StringIndexer(inputCol=column, outputCol=column+\"_index\",).fit(<ваш датасет>) for column in text_columns]\n",
        "\n",
        "##### #Создаём Pipeline из StringIndexer'ов:\n",
        "pipeline = Pipeline(stages=indexers)\n",
        "\n",
        "##### #Скармливаем нашему pipeline датафрейм, удаляя старые колонки:\n",
        "new_dataframe = pipeline.fit(<ваш датасет>).transform(<ваш датасет>).drop(*text_columns)\n"
      ]
    },
    {
      "cell_type": "code",
      "execution_count": 141,
      "metadata": {
        "id": "0XQ3pjdAcBIL"
      },
      "outputs": [],
      "source": [
        "from pyspark import mllib\n",
        "from pyspark.ml.feature import StringIndexer\n",
        "from pyspark.ml import Pipeline\n",
        "\n",
        "#список колонок с текстовым типом\n",
        "text_cols = [\"gender\", \"Partner\", \"Dependents\", \"PhoneService\", \"MultipleLines\", \"InternetService\", \\\n",
        "                \"OnlineSecurity\", \"OnlineBackup\", \"DeviceProtection\", \"TechSupport\", \"StreamingTV\", \\\n",
        "                \"StreamingMovies\", \"Contract\", \"PaperlessBilling\", \"PaymentMethod\", \"Churn\"]\n",
        "\n",
        "\n",
        "### Ваш код здесь ###\n",
        "indexers = [StringIndexer(inputCol=column, outputCol=column+\"_index\",).fit(data_cleaned) for column in text_cols]\n",
        "\n",
        "#pipeline = Pipeline(stages=indexers)\n",
        "\n",
        "#new_dataframe = pipeline.fit(data_cleaned).transform(data_cleaned).drop(*text_cols)\n",
        "#new_dataframe.show(5)"
      ]
    },
    {
      "cell_type": "markdown",
      "metadata": {
        "id": "EEqoj7IcmB5H"
      },
      "source": [
        "2. Векторизуйте категориальные признаки, используя OneHotEncoder.\n",
        "Удалите столбцы со старыми (непреобразованными) признаками.\n",
        "Выведите на экран структуру получившегося после преобразований датафрейма.\n"
      ]
    },
    {
      "cell_type": "code",
      "execution_count": 142,
      "metadata": {
        "id": "Gihv_Q00TkOD",
        "colab": {
          "base_uri": "https://localhost:8080/"
        },
        "outputId": "0c3ae085-1f8c-4017-cc9b-a862fd6e27bf"
      },
      "outputs": [
        {
          "output_type": "stream",
          "name": "stdout",
          "text": [
            "+-------------+------+--------------+------------+-----------------+-----------+-----------------+------------------+------------+-------------+----------------+------------------+-------------------+---------------------+--------------------+------------------+----------------------+-----------------+-----------------+---------------------+--------------+----------------------+-------------------+-----------+--------------+---------------+------------------+--------------------+---------------------+-----------------------+----------------------+--------------------+------------------------+-------------------+-------------------+-----------------------+----------------+------------------------+---------------------+\n",
            "|SeniorCitizen|Tenure|MonthlyCharges|TotalCharges|   AverageCharges|AloneParent|    averageCharge|amount_of_services|gender_index|Partner_index|Dependents_index|PhoneService_index|MultipleLines_index|InternetService_index|OnlineSecurity_index|OnlineBackup_index|DeviceProtection_index|TechSupport_index|StreamingTV_index|StreamingMovies_index|Contract_index|PaperlessBilling_index|PaymentMethod_index|Churn_index|gender_encoded|Partner_encoded|Dependents_encoded|PhoneService_encoded|MultipleLines_encoded|InternetService_encoded|OnlineSecurity_encoded|OnlineBackup_encoded|DeviceProtection_encoded|TechSupport_encoded|StreamingTV_encoded|StreamingMovies_encoded|Contract_encoded|PaperlessBilling_encoded|PaymentMethod_encoded|\n",
            "+-------------+------+--------------+------------+-----------------+-----------+-----------------+------------------+------------+-------------+----------------+------------------+-------------------+---------------------+--------------------+------------------+----------------------+-----------------+-----------------+---------------------+--------------+----------------------+-------------------+-----------+--------------+---------------+------------------+--------------------+---------------------+-----------------------+----------------------+--------------------+------------------------+-------------------+-------------------+-----------------------+----------------+------------------------+---------------------+\n",
            "|            0|     1|         29.85|       29.85|            29.85|          0|            29.85|                 1|         1.0|          1.0|             0.0|               1.0|                2.0|                  1.0|                 0.0|               1.0|                   0.0|              0.0|              0.0|                  0.0|           0.0|                   0.0|                0.0|        0.0|     (1,[],[])|      (1,[],[])|     (1,[0],[1.0])|           (1,[],[])|            (2,[],[])|          (2,[1],[1.0])|         (2,[0],[1.0])|       (2,[1],[1.0])|           (2,[0],[1.0])|      (2,[0],[1.0])|      (2,[0],[1.0])|          (2,[0],[1.0])|   (2,[0],[1.0])|           (1,[0],[1.0])|        (3,[0],[1.0])|\n",
            "|            0|    34|         56.95|      1889.5| 55.5735294117647|          0| 55.5735294117647|                 3|         0.0|          0.0|             0.0|               0.0|                0.0|                  1.0|                 1.0|               0.0|                   1.0|              0.0|              0.0|                  0.0|           2.0|                   1.0|                1.0|        0.0| (1,[0],[1.0])|  (1,[0],[1.0])|     (1,[0],[1.0])|       (1,[0],[1.0])|        (2,[0],[1.0])|          (2,[1],[1.0])|         (2,[1],[1.0])|       (2,[0],[1.0])|           (2,[1],[1.0])|      (2,[0],[1.0])|      (2,[0],[1.0])|          (2,[0],[1.0])|       (2,[],[])|               (1,[],[])|        (3,[1],[1.0])|\n",
            "|            0|     2|         53.85|      108.15|           54.075|          0|           54.075|                 3|         0.0|          0.0|             0.0|               0.0|                0.0|                  1.0|                 1.0|               1.0|                   0.0|              0.0|              0.0|                  0.0|           0.0|                   0.0|                1.0|        1.0| (1,[0],[1.0])|  (1,[0],[1.0])|     (1,[0],[1.0])|       (1,[0],[1.0])|        (2,[0],[1.0])|          (2,[1],[1.0])|         (2,[1],[1.0])|       (2,[1],[1.0])|           (2,[0],[1.0])|      (2,[0],[1.0])|      (2,[0],[1.0])|          (2,[0],[1.0])|   (2,[0],[1.0])|           (1,[0],[1.0])|        (3,[1],[1.0])|\n",
            "|            0|    45|          42.3|     1840.75|40.90555555555556|          0|40.90555555555556|                 3|         0.0|          0.0|             0.0|               1.0|                2.0|                  1.0|                 1.0|               0.0|                   1.0|              1.0|              0.0|                  0.0|           2.0|                   1.0|                2.0|        0.0| (1,[0],[1.0])|  (1,[0],[1.0])|     (1,[0],[1.0])|           (1,[],[])|            (2,[],[])|          (2,[1],[1.0])|         (2,[1],[1.0])|       (2,[0],[1.0])|           (2,[1],[1.0])|      (2,[1],[1.0])|      (2,[0],[1.0])|          (2,[0],[1.0])|       (2,[],[])|               (1,[],[])|        (3,[2],[1.0])|\n",
            "|            0|     2|          70.7|      151.65|           75.825|          0|           75.825|                 1|         1.0|          0.0|             0.0|               0.0|                0.0|                  0.0|                 0.0|               0.0|                   0.0|              0.0|              0.0|                  0.0|           0.0|                   0.0|                0.0|        1.0|     (1,[],[])|  (1,[0],[1.0])|     (1,[0],[1.0])|       (1,[0],[1.0])|        (2,[0],[1.0])|          (2,[0],[1.0])|         (2,[0],[1.0])|       (2,[0],[1.0])|           (2,[0],[1.0])|      (2,[0],[1.0])|      (2,[0],[1.0])|          (2,[0],[1.0])|   (2,[0],[1.0])|           (1,[0],[1.0])|        (3,[0],[1.0])|\n",
            "+-------------+------+--------------+------------+-----------------+-----------+-----------------+------------------+------------+-------------+----------------+------------------+-------------------+---------------------+--------------------+------------------+----------------------+-----------------+-----------------+---------------------+--------------+----------------------+-------------------+-----------+--------------+---------------+------------------+--------------------+---------------------+-----------------------+----------------------+--------------------+------------------------+-------------------+-------------------+-----------------------+----------------+------------------------+---------------------+\n",
            "only showing top 5 rows\n",
            "\n"
          ]
        }
      ],
      "source": [
        "from pyspark.ml.feature import OneHotEncoder\n",
        "\n",
        "#список категориальных колонок\n",
        "features_inp  = [\"gender\", \"Partner\", \"Dependents\", \"PhoneService\", \"MultipleLines\", \"InternetService\", \\\n",
        "                \"OnlineSecurity\", \"OnlineBackup\", \"DeviceProtection\", \"TechSupport\", \"StreamingTV\", \\\n",
        "                \"StreamingMovies\", \"Contract\", \"PaperlessBilling\", \"PaymentMethod\"]\n",
        "\n",
        "\n",
        "### Ваш код здесь ###\n",
        "encoders = [OneHotEncoder(inputCol=col+\"_index\", outputCol=col+\"_encoded\") for col in features_inp]\n",
        "\n",
        "pipeline = Pipeline(stages=indexers + encoders)\n",
        "\n",
        "new_dataframe = pipeline.fit(data_cleaned_2).transform(data_cleaned_2).drop(*text_cols)\n",
        "new_dataframe.show(5)"
      ]
    },
    {
      "cell_type": "markdown",
      "metadata": {
        "id": "WscurK1IoJ8w"
      },
      "source": [
        "3. Объедините колонки фичей в один вектор, используя VectorAssembler.\n",
        "Удалите столбцы со старыми (непреобразованными) признаками.\n",
        "Выведите на экран первые несколько строк и структуру получившегося датафрейма."
      ]
    },
    {
      "cell_type": "code",
      "execution_count": 143,
      "metadata": {
        "id": "wOm-Te9bYMia"
      },
      "outputs": [],
      "source": [
        "from pyspark.ml.feature import VectorAssembler\n",
        "\n",
        "\n",
        "### Ваш код здесь ###\n",
        "features = list(new_dataframe.drop(\"Churn_index\").columns)\n",
        "target = \"Churn_index\""
      ]
    },
    {
      "cell_type": "code",
      "source": [
        "vectorizer = VectorAssembler(inputCols=features, outputCol=\"features_vec\")\n",
        "\n",
        "final_df = vectorizer.transform(new_dataframe)\n",
        "\n",
        "final_df.select(\"features_vec\", \"Churn_index\").show(5, 100)"
      ],
      "metadata": {
        "colab": {
          "base_uri": "https://localhost:8080/"
        },
        "id": "VvJcXdEzcgaA",
        "outputId": "284ff0d0-add5-44ec-b386-c12049a472ef"
      },
      "execution_count": 144,
      "outputs": [
        {
          "output_type": "stream",
          "name": "stdout",
          "text": [
            "+----------------------------------------------------------------------------------------------------+-----------+\n",
            "|                                                                                        features_vec|Churn_index|\n",
            "+----------------------------------------------------------------------------------------------------+-----------+\n",
            "|(49,[1,2,3,4,6,7,8,9,11,12,13,15,25,30,31,34,35,37,39,41,43,45,46],[1.0,29.85,29.85,29.85,29.85,1...|        0.0|\n",
            "|(49,[1,2,3,4,6,7,13,14,16,20,21,22,23,24,25,26,27,30,32,33,36,37,39,41,47],[34.0,56.95,1889.5,55....|        0.0|\n",
            "|(49,[1,2,3,4,6,7,13,14,15,22,23,24,25,26,27,30,32,34,35,37,39,41,43,45,47],[2.0,53.85,108.15,54.0...|        1.0|\n",
            "|(49,[1,2,3,4,6,7,11,12,13,14,16,17,20,21,22,23,24,25,30,32,33,36,38,39,41,48],[45.0,42.3,1840.75,...|        0.0|\n",
            "|(49,[1,2,3,4,6,7,8,24,25,26,27,29,31,33,35,37,39,41,43,45,46],[2.0,70.7,151.65,75.825,75.825,1.0,...|        1.0|\n",
            "+----------------------------------------------------------------------------------------------------+-----------+\n",
            "only showing top 5 rows\n",
            "\n"
          ]
        }
      ]
    },
    {
      "cell_type": "markdown",
      "metadata": {
        "id": "uk_1ZJjDqm02"
      },
      "source": [
        "#8. Создание и обучение модели"
      ]
    },
    {
      "cell_type": "markdown",
      "metadata": {
        "id": "fMsi-JYVqvkX"
      },
      "source": [
        "1. Создайте модель — логистическую регрессию (используя LogisticRegression). В качестве параметров класса LogisticRegression укажите колонку фичей (параметр featuresCol), колонку-таргет (параметр labelCol) из датафрейма и имя колонки, в которую будут записываться предсказания (параметр predictionCol)."
      ]
    },
    {
      "cell_type": "code",
      "execution_count": 145,
      "metadata": {
        "id": "siYFALNhq_9F"
      },
      "outputs": [],
      "source": [
        "from pyspark.ml.classification import LogisticRegression\n",
        "\n",
        "### Ваш код здесь ###\n",
        "model = LogisticRegression(featuresCol=\"features_vec\", labelCol=target)"
      ]
    },
    {
      "cell_type": "markdown",
      "metadata": {
        "id": "OCG0euR8v33u"
      },
      "source": [
        "2. Разделите датафрейм на обучающую и тестовую выборку."
      ]
    },
    {
      "cell_type": "code",
      "execution_count": 146,
      "metadata": {
        "id": "g9PoHvGqvvET"
      },
      "outputs": [],
      "source": [
        "\n",
        "### Ваш код здесь ###\n",
        "df_train, df_test = final_df.randomSplit([0.8, 0.2])\n"
      ]
    },
    {
      "cell_type": "markdown",
      "metadata": {
        "id": "MyGEK9T_wGWd"
      },
      "source": [
        "3. Создайте объекты — сетки гиперпараметров для каждой модели, используя ParamGridBuilder. Так же, как и в ноутбуке из последнего видео, в сетку гиперпараметров можно добавить значения параметров regParam и elasticNetParam.\n",
        "\n",
        "Вы можете ознакомиться [с документацией объекта LogisticRegression в PySpark](https://spark.apache.org/docs/latest/api/python/reference/api/pyspark.ml.classification.LogisticRegression.html) и добавить в сетку больше параметров.\n"
      ]
    },
    {
      "cell_type": "code",
      "execution_count": 147,
      "metadata": {
        "id": "LsRwAy1TwDzF"
      },
      "outputs": [],
      "source": [
        "from pyspark.ml.tuning import ParamGridBuilder\n",
        "\n",
        "### Ваш код здесь ###\n",
        "grid = ParamGridBuilder().addGrid(model.regParam, [0.1, 0.2, 0.5, 0.7, 1, 1.5, 2, 2.5, 3, 4, 5, 10, 20])\\\n",
        "                                  .addGrid(model.elasticNetParam, [0.01, 0.025, 0.05, 0.075, 0.1, 0.2, 0.5, 0.75]).build()"
      ]
    },
    {
      "cell_type": "markdown",
      "metadata": {
        "id": "zg0lwkdoJjaQ"
      },
      "source": [
        "4. Создайте объект evaluator, который будет отвечать за метрику качества при обучении. Для этого используйте класс BinaryClassificationEvaluator со следующими параметрами: rawPredictionCol — колонка с предсказаниями, labelCol — колонка с таргетом.\n",
        "\n",
        "У вас, возможно, возник вопрос, какую метрику качества берёт по умолчанию BinaryClassificationEvaluator. По умолчанию BinaryClassificationEvaluator будет рассчитывать areaUnderROC. Это метрика оценки площади под кривой ROC (Receiver Operating Characteristic), которая служит графической интерпретацией производительности модели. Эта метрика качества находится в пределах от 0 до 1. Чем выше метрика, тем более качественные предсказания делает модель."
      ]
    },
    {
      "cell_type": "code",
      "execution_count": 148,
      "metadata": {
        "id": "RrGPelUqMeoz"
      },
      "outputs": [],
      "source": [
        "from pyspark.ml.evaluation import BinaryClassificationEvaluator\n",
        "\n",
        "### Ваш код здесь ###\n",
        "eval = BinaryClassificationEvaluator(rawPredictionCol = \"prediction\", labelCol=target)"
      ]
    },
    {
      "cell_type": "markdown",
      "metadata": {
        "id": "7urf-OeRMTdC"
      },
      "source": [
        "5. Создайте объект CrossValidator, в качестве параметров укажите уже созданные вами модель, сетку гиперпараметров и evaluator."
      ]
    },
    {
      "cell_type": "code",
      "execution_count": 149,
      "metadata": {
        "id": "CtmsG_rxSOOr"
      },
      "outputs": [],
      "source": [
        "from pyspark.ml.tuning import CrossValidator\n",
        "\n",
        "### Ваш код здесь ###\n",
        "cv = CrossValidator(estimator=model, estimatorParamMaps=grid, evaluator=eval)\n",
        "\n"
      ]
    },
    {
      "cell_type": "markdown",
      "metadata": {
        "id": "Jmpv70TjZByl"
      },
      "source": [
        "6. Запустите обучение модели на тренировочной выборке. Сохраните обученную модель в новую переменную."
      ]
    },
    {
      "cell_type": "code",
      "execution_count": 150,
      "metadata": {
        "id": "uUxWevjEYOvX"
      },
      "outputs": [],
      "source": [
        "\n",
        "### Ваш код здесь ###\n",
        "cv_model = cv.fit(df_train)"
      ]
    },
    {
      "cell_type": "markdown",
      "metadata": {
        "id": "WaIi8In5Zykn"
      },
      "source": [
        "#9. Выбор лучшей модели"
      ]
    },
    {
      "cell_type": "markdown",
      "metadata": {
        "id": "29eo5S_KZL4k"
      },
      "source": [
        "1. Выберите лучшую модель, сохраните её в отдельную переменную, отобразите её параметры.\n",
        "\n",
        "Вывод параметров модели в PySpark можно сделать, используя метод extractParamMap()."
      ]
    },
    {
      "cell_type": "code",
      "execution_count": 151,
      "metadata": {
        "id": "kJK-IrWLZbL-",
        "colab": {
          "base_uri": "https://localhost:8080/"
        },
        "outputId": "12cd86d6-bc4d-4040-acc8-fe823e5b26a0"
      },
      "outputs": [
        {
          "output_type": "execute_result",
          "data": {
            "text/plain": [
              "{Param(parent='LogisticRegression_26513a98370f', name='aggregationDepth', doc='suggested depth for treeAggregate (>= 2).'): 2,\n",
              " Param(parent='LogisticRegression_26513a98370f', name='elasticNetParam', doc='the ElasticNet mixing parameter, in range [0, 1]. For alpha = 0, the penalty is an L2 penalty. For alpha = 1, it is an L1 penalty.'): 0.01,\n",
              " Param(parent='LogisticRegression_26513a98370f', name='family', doc='The name of family which is a description of the label distribution to be used in the model. Supported options: auto, binomial, multinomial'): 'auto',\n",
              " Param(parent='LogisticRegression_26513a98370f', name='featuresCol', doc='features column name.'): 'features_vec',\n",
              " Param(parent='LogisticRegression_26513a98370f', name='fitIntercept', doc='whether to fit an intercept term.'): True,\n",
              " Param(parent='LogisticRegression_26513a98370f', name='labelCol', doc='label column name.'): 'Churn_index',\n",
              " Param(parent='LogisticRegression_26513a98370f', name='maxBlockSizeInMB', doc='maximum memory in MB for stacking input data into blocks. Data is stacked within partitions. If more than remaining data size in a partition then it is adjusted to the data size. Default 0.0 represents choosing optimal value, depends on specific algorithm. Must be >= 0.'): 0.0,\n",
              " Param(parent='LogisticRegression_26513a98370f', name='maxIter', doc='max number of iterations (>= 0).'): 100,\n",
              " Param(parent='LogisticRegression_26513a98370f', name='predictionCol', doc='prediction column name.'): 'prediction',\n",
              " Param(parent='LogisticRegression_26513a98370f', name='probabilityCol', doc='Column name for predicted class conditional probabilities. Note: Not all models output well-calibrated probability estimates! These probabilities should be treated as confidences, not precise probabilities.'): 'probability',\n",
              " Param(parent='LogisticRegression_26513a98370f', name='rawPredictionCol', doc='raw prediction (a.k.a. confidence) column name.'): 'rawPrediction',\n",
              " Param(parent='LogisticRegression_26513a98370f', name='regParam', doc='regularization parameter (>= 0).'): 0.1,\n",
              " Param(parent='LogisticRegression_26513a98370f', name='standardization', doc='whether to standardize the training features before fitting the model.'): True,\n",
              " Param(parent='LogisticRegression_26513a98370f', name='threshold', doc='Threshold in binary classification prediction, in range [0, 1]. If threshold and thresholds are both set, they must match.e.g. if threshold is p, then thresholds must be equal to [1-p, p].'): 0.5,\n",
              " Param(parent='LogisticRegression_26513a98370f', name='tol', doc='the convergence tolerance for iterative algorithms (>= 0).'): 1e-06}"
            ]
          },
          "metadata": {},
          "execution_count": 151
        }
      ],
      "source": [
        "\n",
        "### Ваш код здесь ###\n",
        "best_model = cv_model.bestModel\n",
        "\n",
        "best_model.extractParamMap()"
      ]
    },
    {
      "cell_type": "markdown",
      "metadata": {
        "id": "1BIe8gqugBds"
      },
      "source": [
        "2. Запустите лучшую модель в режиме предсказания на тестовой выборке. Сохраните предсказания в отдельную переменную. Выведите первые несколько строк датафрейма с предсказаниями на экран.\n",
        "\n",
        "Запуск модели в режиме предсказания выполняется при помощи метода .transform(<тестовая выборка>)."
      ]
    },
    {
      "cell_type": "code",
      "execution_count": 152,
      "metadata": {
        "id": "_K1IrbNzd1FX"
      },
      "outputs": [],
      "source": [
        "from pyspark.sql.functions import monotonically_increasing_id\n",
        "### Ваш код здесь ###\n",
        "preds = best_model.transform(df_test)\n",
        "df_test = df_test.withColumn(\"temp_id\", monotonically_increasing_id())\n",
        "preds = preds.withColumn(\"temp_id\", monotonically_increasing_id())\n",
        "result_df = df_test.join(preds.select(\"temp_id\", \"prediction\"), \"temp_id\").drop(\"temp_id\")"
      ]
    },
    {
      "cell_type": "code",
      "source": [
        "result_df.show(5)"
      ],
      "metadata": {
        "colab": {
          "base_uri": "https://localhost:8080/"
        },
        "id": "oGYklDFd0DW9",
        "outputId": "2ae23c41-e455-4d36-d6ec-00c7e8f9dd6d"
      },
      "execution_count": 153,
      "outputs": [
        {
          "output_type": "stream",
          "name": "stdout",
          "text": [
            "+-------------+------+--------------+------------+--------------+-----------+-------------+------------------+------------+-------------+----------------+------------------+-------------------+---------------------+--------------------+------------------+----------------------+-----------------+-----------------+---------------------+--------------+----------------------+-------------------+-----------+--------------+---------------+------------------+--------------------+---------------------+-----------------------+----------------------+--------------------+------------------------+-------------------+-------------------+-----------------------+----------------+------------------------+---------------------+--------------------+----------+\n",
            "|SeniorCitizen|Tenure|MonthlyCharges|TotalCharges|AverageCharges|AloneParent|averageCharge|amount_of_services|gender_index|Partner_index|Dependents_index|PhoneService_index|MultipleLines_index|InternetService_index|OnlineSecurity_index|OnlineBackup_index|DeviceProtection_index|TechSupport_index|StreamingTV_index|StreamingMovies_index|Contract_index|PaperlessBilling_index|PaymentMethod_index|Churn_index|gender_encoded|Partner_encoded|Dependents_encoded|PhoneService_encoded|MultipleLines_encoded|InternetService_encoded|OnlineSecurity_encoded|OnlineBackup_encoded|DeviceProtection_encoded|TechSupport_encoded|StreamingTV_encoded|StreamingMovies_encoded|Contract_encoded|PaperlessBilling_encoded|PaymentMethod_encoded|        features_vec|prediction|\n",
            "+-------------+------+--------------+------------+--------------+-----------+-------------+------------------+------------+-------------+----------------+------------------+-------------------+---------------------+--------------------+------------------+----------------------+-----------------+-----------------+---------------------+--------------+----------------------+-------------------+-----------+--------------+---------------+------------------+--------------------+---------------------+-----------------------+----------------------+--------------------+------------------------+-------------------+-------------------+-----------------------+----------------+------------------------+---------------------+--------------------+----------+\n",
            "|            0|     1|         18.85|       18.85|         18.85|          0|        18.85|                 1|         0.0|          0.0|             0.0|               0.0|                0.0|                  2.0|                 2.0|               2.0|                   2.0|              2.0|              2.0|                  2.0|           0.0|                   0.0|                1.0|        1.0| (1,[0],[1.0])|  (1,[0],[1.0])|     (1,[0],[1.0])|       (1,[0],[1.0])|        (2,[0],[1.0])|              (2,[],[])|             (2,[],[])|           (2,[],[])|               (2,[],[])|          (2,[],[])|          (2,[],[])|              (2,[],[])|   (2,[0],[1.0])|           (1,[0],[1.0])|        (3,[1],[1.0])|(49,[1,2,3,4,6,7,...|       0.0|\n",
            "|            0|     1|         18.85|       18.85|         18.85|          0|        18.85|                 1|         1.0|          0.0|             0.0|               0.0|                0.0|                  2.0|                 2.0|               2.0|                   2.0|              2.0|              2.0|                  2.0|           0.0|                   1.0|                0.0|        0.0|     (1,[],[])|  (1,[0],[1.0])|     (1,[0],[1.0])|       (1,[0],[1.0])|        (2,[0],[1.0])|              (2,[],[])|             (2,[],[])|           (2,[],[])|               (2,[],[])|          (2,[],[])|          (2,[],[])|              (2,[],[])|   (2,[0],[1.0])|               (1,[],[])|        (3,[0],[1.0])|(49,[1,2,3,4,6,7,...|       0.0|\n",
            "|            0|     1|         19.05|       19.05|         19.05|          0|        19.05|                 1|         0.0|          0.0|             0.0|               0.0|                0.0|                  2.0|                 2.0|               2.0|                   2.0|              2.0|              2.0|                  2.0|           0.0|                   1.0|                1.0|        0.0| (1,[0],[1.0])|  (1,[0],[1.0])|     (1,[0],[1.0])|       (1,[0],[1.0])|        (2,[0],[1.0])|              (2,[],[])|             (2,[],[])|           (2,[],[])|               (2,[],[])|          (2,[],[])|          (2,[],[])|              (2,[],[])|   (2,[0],[1.0])|               (1,[],[])|        (3,[1],[1.0])|(49,[1,2,3,4,6,7,...|       0.0|\n",
            "|            0|     1|          19.1|        19.1|          19.1|          0|         19.1|                 1|         0.0|          0.0|             0.0|               0.0|                0.0|                  2.0|                 2.0|               2.0|                   2.0|              2.0|              2.0|                  2.0|           0.0|                   1.0|                1.0|        0.0| (1,[0],[1.0])|  (1,[0],[1.0])|     (1,[0],[1.0])|       (1,[0],[1.0])|        (2,[0],[1.0])|              (2,[],[])|             (2,[],[])|           (2,[],[])|               (2,[],[])|          (2,[],[])|          (2,[],[])|              (2,[],[])|   (2,[0],[1.0])|               (1,[],[])|        (3,[1],[1.0])|(49,[1,2,3,4,6,7,...|       0.0|\n",
            "|            0|     1|          19.2|        19.2|          19.2|          0|         19.2|                 1|         0.0|          0.0|             0.0|               0.0|                0.0|                  2.0|                 2.0|               2.0|                   2.0|              2.0|              2.0|                  2.0|           0.0|                   1.0|                0.0|        0.0| (1,[0],[1.0])|  (1,[0],[1.0])|     (1,[0],[1.0])|       (1,[0],[1.0])|        (2,[0],[1.0])|              (2,[],[])|             (2,[],[])|           (2,[],[])|               (2,[],[])|          (2,[],[])|          (2,[],[])|              (2,[],[])|   (2,[0],[1.0])|               (1,[],[])|        (3,[0],[1.0])|(49,[1,2,3,4,6,7,...|       0.0|\n",
            "+-------------+------+--------------+------------+--------------+-----------+-------------+------------------+------------+-------------+----------------+------------------+-------------------+---------------------+--------------------+------------------+----------------------+-----------------+-----------------+---------------------+--------------+----------------------+-------------------+-----------+--------------+---------------+------------------+--------------------+---------------------+-----------------------+----------------------+--------------------+------------------------+-------------------+-------------------+-----------------------+----------------+------------------------+---------------------+--------------------+----------+\n",
            "only showing top 5 rows\n",
            "\n"
          ]
        }
      ]
    },
    {
      "cell_type": "markdown",
      "metadata": {
        "id": "gC41fZbahGCB"
      },
      "source": [
        "3. Получите метрику качества модели. Для этого примените к объекту evaluator метод .evaluate(<ваш датафрейм с предсказаниями>).\n",
        "\n"
      ]
    },
    {
      "cell_type": "code",
      "execution_count": 154,
      "metadata": {
        "id": "CBzDaleQhejy",
        "colab": {
          "base_uri": "https://localhost:8080/"
        },
        "outputId": "db8114c6-8672-4e88-a11b-d74b339f22cb"
      },
      "outputs": [
        {
          "output_type": "execute_result",
          "data": {
            "text/plain": [
              "0.690492179411847"
            ]
          },
          "metadata": {},
          "execution_count": 154
        }
      ],
      "source": [
        "\n",
        "### Ваш код здесь ###\n",
        "eval.evaluate(preds)"
      ]
    },
    {
      "cell_type": "markdown",
      "metadata": {
        "id": "nieC-XnAl-4m"
      },
      "source": [
        "#10. Обратная связь\n",
        "Вы ознакомились с возможностями двух мощных библиотек: PySpark SQL для предобработки данных и PySpark ML для машинного обучения."
      ]
    },
    {
      "cell_type": "markdown",
      "metadata": {
        "id": "axLO-xV3pJx2"
      },
      "source": [
        "Поделитесь впечатлениями от работы с новыми библиотеками. В чём они более удобны, чем уже знакомые вам Pandas и Sklearn, а в чём нет."
      ]
    },
    {
      "cell_type": "markdown",
      "metadata": {
        "id": "V9TYdK5gl9P4"
      },
      "source": [
        "# Как отправить работу на проверку\n",
        "\n",
        "Загрузите файл с заданиями, откройте его через Jupyter Notebook в Google Colab. Скачайте файл с датасетом и загрузите его в Colab. Выполните задачи, сохраните изменения: воспользуйтесь опцией Save and Checkpoint из вкладки меню File или кнопкой Save and Checkpoint на панели инструментов. Отправьте через форму ниже итоговый файл Jupyter Notebook (.ipynb) или ссылку на него."
      ]
    }
  ],
  "metadata": {
    "colab": {
      "provenance": []
    },
    "kernelspec": {
      "display_name": "Python 3 (ipykernel)",
      "language": "python",
      "name": "python3"
    },
    "language_info": {
      "codemirror_mode": {
        "name": "ipython",
        "version": 3
      },
      "file_extension": ".py",
      "mimetype": "text/x-python",
      "name": "python",
      "nbconvert_exporter": "python",
      "pygments_lexer": "ipython3",
      "version": "3.11.5"
    }
  },
  "nbformat": 4,
  "nbformat_minor": 0
}